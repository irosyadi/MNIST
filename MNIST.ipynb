{
 "cells": [
  {
   "cell_type": "markdown",
   "metadata": {},
   "source": [
    "### Import and Format MNIST Dataset"
   ]
  },
  {
   "cell_type": "code",
   "execution_count": 1,
   "metadata": {},
   "outputs": [],
   "source": [
    "import numpy as np"
   ]
  },
  {
   "cell_type": "code",
   "execution_count": 5,
   "metadata": {},
   "outputs": [],
   "source": [
    "from tensorflow.keras.datasets.mnist import load_data"
   ]
  },
  {
   "cell_type": "code",
   "execution_count": 6,
   "metadata": {},
   "outputs": [],
   "source": [
    "# Load data\n",
    "(x_train, y_train), (x_test, y_test) = load_data()"
   ]
  },
  {
   "cell_type": "code",
   "execution_count": 7,
   "metadata": {},
   "outputs": [],
   "source": [
    "# Reshape\n",
    "x_train = x_train.reshape(len(x_train), 28, 28, 1)\n",
    "x_test = x_test.reshape(len(x_test), 28, 28, 1)"
   ]
  },
  {
   "cell_type": "code",
   "execution_count": 8,
   "metadata": {},
   "outputs": [],
   "source": [
    "# Normalize data\n",
    "x_train = x_train/255\n",
    "x_test  = x_test/255"
   ]
  },
  {
   "cell_type": "markdown",
   "metadata": {},
   "source": [
    "### Train Dense Neural Network"
   ]
  },
  {
   "cell_type": "code",
   "execution_count": 9,
   "metadata": {},
   "outputs": [],
   "source": [
    "from tensorflow.keras.models import Sequential\n",
    "from tensorflow.keras.layers import Dense, Conv2D, Dropout, Flatten, MaxPooling2D"
   ]
  },
  {
   "cell_type": "code",
   "execution_count": 10,
   "metadata": {},
   "outputs": [],
   "source": [
    "nn_model = Sequential()"
   ]
  },
  {
   "cell_type": "code",
   "execution_count": 11,
   "metadata": {},
   "outputs": [],
   "source": [
    "nn_model.add(Dense(16, input_shape=x_train[0].shape, activation='relu'))\n",
    "nn_model.add(Dense(16,  activation='relu'))\n",
    "nn_model.add(Flatten())\n",
    "nn_model.add(Dense(10,  activation='softmax'))"
   ]
  },
  {
   "cell_type": "code",
   "execution_count": 12,
   "metadata": {},
   "outputs": [
    {
     "name": "stdout",
     "output_type": "stream",
     "text": [
      "Model: \"sequential\"\n",
      "_________________________________________________________________\n",
      "Layer (type)                 Output Shape              Param #   \n",
      "=================================================================\n",
      "dense (Dense)                (None, 28, 28, 16)        32        \n",
      "_________________________________________________________________\n",
      "dense_1 (Dense)              (None, 28, 28, 16)        272       \n",
      "_________________________________________________________________\n",
      "flatten (Flatten)            (None, 12544)             0         \n",
      "_________________________________________________________________\n",
      "dense_2 (Dense)              (None, 10)                125450    \n",
      "=================================================================\n",
      "Total params: 125,754\n",
      "Trainable params: 125,754\n",
      "Non-trainable params: 0\n",
      "_________________________________________________________________\n"
     ]
    }
   ],
   "source": [
    "nn_model.summary()"
   ]
  },
  {
   "cell_type": "code",
   "execution_count": 13,
   "metadata": {},
   "outputs": [
    {
     "name": "stdout",
     "output_type": "stream",
     "text": [
      "Train on 60000 samples\n",
      "Epoch 1/10\n",
      "60000/60000 [==============================] - 21s 351us/sample - loss: 0.3603 - accuracy: 0.8988\n",
      "Epoch 2/10\n",
      "60000/60000 [==============================] - 21s 354us/sample - loss: 0.2834 - accuracy: 0.9191\n",
      "Epoch 3/10\n",
      "60000/60000 [==============================] - 22s 360us/sample - loss: 0.2704 - accuracy: 0.9240\n",
      "Epoch 4/10\n",
      "60000/60000 [==============================] - 24s 397us/sample - loss: 0.2581 - accuracy: 0.9272\n",
      "Epoch 5/10\n",
      "60000/60000 [==============================] - 21s 356us/sample - loss: 0.2472 - accuracy: 0.9303\n",
      "Epoch 6/10\n",
      "60000/60000 [==============================] - 21s 349us/sample - loss: 0.2379 - accuracy: 0.9326\n",
      "Epoch 7/10\n",
      "60000/60000 [==============================] - 21s 347us/sample - loss: 0.2266 - accuracy: 0.9370\n",
      "Epoch 8/10\n",
      "60000/60000 [==============================] - 21s 346us/sample - loss: 0.2166 - accuracy: 0.9387\n",
      "Epoch 9/10\n",
      "60000/60000 [==============================] - 21s 352us/sample - loss: 0.2071 - accuracy: 0.9413\n",
      "Epoch 10/10\n",
      "60000/60000 [==============================] - 22s 361us/sample - loss: 0.1990 - accuracy: 0.9439\n"
     ]
    },
    {
     "data": {
      "text/plain": [
       "<tensorflow.python.keras.callbacks.History at 0x1c701a77988>"
      ]
     },
     "execution_count": 13,
     "metadata": {},
     "output_type": "execute_result"
    }
   ],
   "source": [
    "nn_model.compile(optimizer='adam', \n",
    "              loss='sparse_categorical_crossentropy', \n",
    "              metrics=['accuracy'])\n",
    "\n",
    "nn_model.fit(x=x_train,y=y_train, epochs=10)"
   ]
  },
  {
   "cell_type": "markdown",
   "metadata": {},
   "source": [
    "### Train Convolutional Neural Network"
   ]
  },
  {
   "cell_type": "code",
   "execution_count": 14,
   "metadata": {},
   "outputs": [],
   "source": [
    "cnn_model = Sequential()"
   ]
  },
  {
   "cell_type": "code",
   "execution_count": 15,
   "metadata": {},
   "outputs": [],
   "source": [
    "cnn_model.add(Conv2D(28, kernel_size=(3,3), input_shape=x_train[0].shape))\n",
    "cnn_model.add(MaxPooling2D(pool_size=(2, 2)))\n",
    "cnn_model.add(Flatten())\n",
    "cnn_model.add(Dense(128, activation='relu'))\n",
    "cnn_model.add(Dropout(0.2))\n",
    "cnn_model.add(Dense(10,activation='softmax'))"
   ]
  },
  {
   "cell_type": "code",
   "execution_count": 16,
   "metadata": {},
   "outputs": [
    {
     "name": "stdout",
     "output_type": "stream",
     "text": [
      "Model: \"sequential_1\"\n",
      "_________________________________________________________________\n",
      "Layer (type)                 Output Shape              Param #   \n",
      "=================================================================\n",
      "conv2d (Conv2D)              (None, 26, 26, 28)        280       \n",
      "_________________________________________________________________\n",
      "max_pooling2d (MaxPooling2D) (None, 13, 13, 28)        0         \n",
      "_________________________________________________________________\n",
      "flatten_1 (Flatten)          (None, 4732)              0         \n",
      "_________________________________________________________________\n",
      "dense_3 (Dense)              (None, 128)               605824    \n",
      "_________________________________________________________________\n",
      "dropout (Dropout)            (None, 128)               0         \n",
      "_________________________________________________________________\n",
      "dense_4 (Dense)              (None, 10)                1290      \n",
      "=================================================================\n",
      "Total params: 607,394\n",
      "Trainable params: 607,394\n",
      "Non-trainable params: 0\n",
      "_________________________________________________________________\n"
     ]
    }
   ],
   "source": [
    "cnn_model.summary()"
   ]
  },
  {
   "cell_type": "code",
   "execution_count": 17,
   "metadata": {},
   "outputs": [
    {
     "name": "stdout",
     "output_type": "stream",
     "text": [
      "Train on 60000 samples\n",
      "Epoch 1/10\n",
      "60000/60000 [==============================] - 35s 579us/sample - loss: 0.2032 - accuracy: 0.9398\n",
      "Epoch 2/10\n",
      "60000/60000 [==============================] - 34s 570us/sample - loss: 0.0819 - accuracy: 0.9752\n",
      "Epoch 3/10\n",
      "60000/60000 [==============================] - 33s 553us/sample - loss: 0.0596 - accuracy: 0.9810\n",
      "Epoch 4/10\n",
      "60000/60000 [==============================] - 36s 608us/sample - loss: 0.0426 - accuracy: 0.9866\n",
      "Epoch 5/10\n",
      "60000/60000 [==============================] - 35s 580us/sample - loss: 0.0351 - accuracy: 0.9884\n",
      "Epoch 6/10\n",
      "60000/60000 [==============================] - 33s 546us/sample - loss: 0.0302 - accuracy: 0.9897\n",
      "Epoch 7/10\n",
      "60000/60000 [==============================] - 33s 557us/sample - loss: 0.0253 - accuracy: 0.9913\n",
      "Epoch 8/10\n",
      "60000/60000 [==============================] - 35s 579us/sample - loss: 0.0219 - accuracy: 0.9927\n",
      "Epoch 9/10\n",
      "60000/60000 [==============================] - 34s 569us/sample - loss: 0.0192 - accuracy: 0.9933\n",
      "Epoch 10/10\n",
      "60000/60000 [==============================] - 34s 571us/sample - loss: 0.0175 - accuracy: 0.9937\n"
     ]
    },
    {
     "data": {
      "text/plain": [
       "<tensorflow.python.keras.callbacks.History at 0x1c7021da408>"
      ]
     },
     "execution_count": 17,
     "metadata": {},
     "output_type": "execute_result"
    }
   ],
   "source": [
    "cnn_model.compile(optimizer='adam', \n",
    "              loss='sparse_categorical_crossentropy', \n",
    "              metrics=['accuracy'])\n",
    "\n",
    "cnn_model.fit(x=x_train,y=y_train, epochs=10)"
   ]
  },
  {
   "cell_type": "markdown",
   "metadata": {},
   "source": [
    "### Train K-Nearest Neighbors"
   ]
  },
  {
   "cell_type": "code",
   "execution_count": 18,
   "metadata": {},
   "outputs": [],
   "source": [
    "from sklearn.neighbors import KNeighborsClassifier"
   ]
  },
  {
   "cell_type": "code",
   "execution_count": 19,
   "metadata": {},
   "outputs": [],
   "source": [
    "knn_model = KNeighborsClassifier(n_neighbors=5)"
   ]
  },
  {
   "cell_type": "code",
   "execution_count": 20,
   "metadata": {},
   "outputs": [
    {
     "data": {
      "text/plain": [
       "KNeighborsClassifier(algorithm='auto', leaf_size=30, metric='minkowski',\n",
       "                     metric_params=None, n_jobs=None, n_neighbors=5, p=2,\n",
       "                     weights='uniform')"
      ]
     },
     "execution_count": 20,
     "metadata": {},
     "output_type": "execute_result"
    }
   ],
   "source": [
    "knn_model.fit(x_train.reshape(len(x_train), 784), y_train)"
   ]
  },
  {
   "cell_type": "markdown",
   "metadata": {},
   "source": [
    "### Evaluate the Models on the Training Set"
   ]
  },
  {
   "cell_type": "code",
   "execution_count": 21,
   "metadata": {},
   "outputs": [
    {
     "name": "stdout",
     "output_type": "stream",
     "text": [
      "NN Model Accuracy:  0.9335\n"
     ]
    }
   ],
   "source": [
    "print('NN Model Accuracy: ' , nn_model.evaluate(x_test, y_test, verbose=False)[1])"
   ]
  },
  {
   "cell_type": "code",
   "execution_count": 22,
   "metadata": {},
   "outputs": [
    {
     "name": "stdout",
     "output_type": "stream",
     "text": [
      "CNN Model Accuracy:  0.9845\n"
     ]
    }
   ],
   "source": [
    "print('CNN Model Accuracy: ', cnn_model.evaluate(x_test, y_test, verbose=False)[1])"
   ]
  },
  {
   "cell_type": "code",
   "execution_count": 23,
   "metadata": {},
   "outputs": [
    {
     "name": "stdout",
     "output_type": "stream",
     "text": [
      "KNN Model Accuracy:  0.961\n"
     ]
    }
   ],
   "source": [
    "print('KNN Model Accuracy: ', knn_model.score(x_test[:1000].reshape(len(x_test[:1000]), 784), y_test[:1000]))"
   ]
  },
  {
   "cell_type": "markdown",
   "metadata": {},
   "source": [
    "### Visualize Predictions"
   ]
  },
  {
   "cell_type": "code",
   "execution_count": 3,
   "metadata": {},
   "outputs": [],
   "source": [
    "from PIL import Image"
   ]
  },
  {
   "cell_type": "code",
   "execution_count": 2,
   "metadata": {},
   "outputs": [],
   "source": [
    "import matplotlib.pyplot as plt\n",
    "%matplotlib inline"
   ]
  },
  {
   "cell_type": "code",
   "execution_count": null,
   "metadata": {},
   "outputs": [],
   "source": [
    "import matplotlib.gridspec as gridspec"
   ]
  },
  {
   "cell_type": "code",
   "execution_count": 88,
   "metadata": {},
   "outputs": [],
   "source": [
    "from os import listdir"
   ]
  },
  {
   "cell_type": "code",
   "execution_count": 87,
   "metadata": {},
   "outputs": [],
   "source": [
    "def plot_fig(y, filename, filepath):\n",
    "    \n",
    "    # Load Image\n",
    "    img = (np.invert(Image.open(filepath + filename).convert('L')))/255\n",
    "    \n",
    "    # Calculate Prediction probabilities for each NN model\n",
    "    nn_pred = nn_model.predict(img.reshape(1, 28, 28, 1))[0]\n",
    "    cnn_pred = cnn_model.predict(img.reshape(1, 28, 28, 1))[0]\n",
    "    \n",
    "    # Caclulate 5 Nearest Neighbors for KNN\n",
    "    nbr_index = knn_model.kneighbors(img.reshape(1, 784), n_neighbors=5, return_distance=False)[0]\n",
    "    nbr_label = y_train[nbr_index]\n",
    "    knn_pred = np.bincount(nbr_label, minlength=10)/len(nbr_label)\n",
    "    \n",
    "    # Plot Image\n",
    "    fig = plt.figure()\n",
    "\n",
    "    plt.subplot2grid((3,2), (0,0), rowspan=3)\n",
    "    plt.imshow(img.reshape(28, 28), vmin=0, vmax=1, cmap='Greys')\n",
    "    plt.xticks([])\n",
    "    plt.yticks([])\n",
    "\n",
    "    # Plot NN Prediction\n",
    "    plt.subplot2grid((3,2), (0, 1))\n",
    "    plt.bar(list(range(len(nn_pred))), nn_pred, color='lightblue')\n",
    "    plt.bar([y], np.array(nn_pred[y])[nn_pred.argmax() == y], color='tab:blue')\n",
    "    plt.xticks(np.arange(0, 10))\n",
    "    plt.ylim([0, 1])\n",
    "    plt.title('DNN')\n",
    "    plt.yticks([0, .5, 1])\n",
    "\n",
    "    # Plot CNN Prediction\n",
    "    plt.subplot2grid((3,2), (1, 1))\n",
    "    plt.bar(list(range(len(cnn_pred))), cnn_pred, color='lightgreen')\n",
    "    plt.bar([y], np.array(cnn_pred[y])[cnn_pred.argmax() == y], color='tab:green')\n",
    "    plt.xticks(np.arange(0, 10))\n",
    "    plt.ylim([0, 1])\n",
    "    plt.title('CNN')\n",
    "    plt.yticks([0, .5, 1])\n",
    "\n",
    "    # Plot KNN Prediction\n",
    "    plt.subplot2grid((3,2), (2, 1))\n",
    "    plt.bar(list(range(len(knn_pred))), knn_pred, color='peachpuff')\n",
    "    plt.bar([y], np.array(knn_pred[y])[knn_pred.argmax() == y], color='tab:red')\n",
    "    plt.xticks(np.arange(0, 10))\n",
    "    plt.ylim([0, 1])\n",
    "    plt.title('KNN')\n",
    "    plt.yticks([0, .5, 1])\n",
    "\n",
    "    fig.tight_layout()\n",
    "    fig.set_size_inches(w=12,h=6)\n",
    "\n",
    "    fig.savefig(filepath + 'Plots/' + filename.replace('.png', '') + '_plot.png')\n",
    "    plt.close()"
   ]
  },
  {
   "cell_type": "code",
   "execution_count": 89,
   "metadata": {},
   "outputs": [
    {
     "name": "stdout",
     "output_type": "stream",
     "text": [
      "zero_30.png\r"
     ]
    }
   ],
   "source": [
    "path = 'Images/Zero/'\n",
    "y = 0\n",
    "\n",
    "for filename in listdir(path):\n",
    "    \n",
    "    if 'png' in filename:\n",
    "        \n",
    "        print(filename, end=\"\\r\")\n",
    "        plot_fig(y, filename, path)"
   ]
  },
  {
   "cell_type": "code",
   "execution_count": 90,
   "metadata": {},
   "outputs": [
    {
     "name": "stdout",
     "output_type": "stream",
     "text": [
      "one_19.png\r"
     ]
    }
   ],
   "source": [
    "path = 'Images/One/'\n",
    "y = 1\n",
    "\n",
    "for filename in listdir(path):\n",
    "    \n",
    "    if 'png' in filename:\n",
    "        \n",
    "        print(filename, end=\"\\r\")\n",
    "        plot_fig(y, filename, path)"
   ]
  },
  {
   "cell_type": "code",
   "execution_count": 91,
   "metadata": {},
   "outputs": [
    {
     "name": "stdout",
     "output_type": "stream",
     "text": [
      "two_30.png\r"
     ]
    }
   ],
   "source": [
    "path = 'Images/Two/'\n",
    "y = 2\n",
    "\n",
    "for filename in listdir(path):\n",
    "    \n",
    "    if 'png' in filename:\n",
    "        \n",
    "        print(filename, end=\"\\r\")\n",
    "        plot_fig(y, filename, path)"
   ]
  },
  {
   "cell_type": "code",
   "execution_count": 92,
   "metadata": {},
   "outputs": [
    {
     "name": "stdout",
     "output_type": "stream",
     "text": [
      "three_28.png\r"
     ]
    }
   ],
   "source": [
    "path = 'Images/Three/'\n",
    "y = 3\n",
    "\n",
    "for filename in listdir(path):\n",
    "    \n",
    "    if 'png' in filename:\n",
    "        \n",
    "        print(filename, end=\"\\r\")\n",
    "        plot_fig(y, filename, path)"
   ]
  },
  {
   "cell_type": "code",
   "execution_count": 93,
   "metadata": {},
   "outputs": [
    {
     "name": "stdout",
     "output_type": "stream",
     "text": [
      "four_27.png\r"
     ]
    }
   ],
   "source": [
    "path = 'Images/Four/'\n",
    "y = 4\n",
    "\n",
    "for filename in listdir(path):\n",
    "    \n",
    "    if 'png' in filename:\n",
    "        \n",
    "        print(filename, end=\"\\r\")\n",
    "        plot_fig(y, filename, path)"
   ]
  },
  {
   "cell_type": "code",
   "execution_count": 94,
   "metadata": {},
   "outputs": [
    {
     "name": "stdout",
     "output_type": "stream",
     "text": [
      "five_31.png\r"
     ]
    }
   ],
   "source": [
    "path = 'Images/Five/'\n",
    "y = 5\n",
    "\n",
    "for filename in listdir(path):\n",
    "    \n",
    "    if 'png' in filename:\n",
    "        \n",
    "        print(filename, end=\"\\r\")\n",
    "        plot_fig(y, filename, path)"
   ]
  },
  {
   "cell_type": "code",
   "execution_count": 95,
   "metadata": {},
   "outputs": [
    {
     "name": "stdout",
     "output_type": "stream",
     "text": [
      "six_28.png\r"
     ]
    }
   ],
   "source": [
    "path = 'Images/Six/'\n",
    "y = 6\n",
    "\n",
    "for filename in listdir(path):\n",
    "    \n",
    "    if 'png' in filename:\n",
    "        \n",
    "        print(filename, end=\"\\r\")\n",
    "        plot_fig(y, filename, path)"
   ]
  },
  {
   "cell_type": "code",
   "execution_count": 96,
   "metadata": {},
   "outputs": [
    {
     "name": "stdout",
     "output_type": "stream",
     "text": [
      "seven_24.png\r"
     ]
    }
   ],
   "source": [
    "path = 'Images/Seven/'\n",
    "y = 7\n",
    "\n",
    "for filename in listdir(path):\n",
    "    \n",
    "    if 'png' in filename:\n",
    "        \n",
    "        print(filename, end=\"\\r\")\n",
    "        plot_fig(y, filename, path)"
   ]
  },
  {
   "cell_type": "code",
   "execution_count": 97,
   "metadata": {},
   "outputs": [
    {
     "name": "stdout",
     "output_type": "stream",
     "text": [
      "eight_37.png\r"
     ]
    }
   ],
   "source": [
    "path = 'Images/Eight/'\n",
    "y = 8\n",
    "\n",
    "for filename in listdir(path):\n",
    "    \n",
    "    if 'png' in filename:\n",
    "        \n",
    "        print(filename, end=\"\\r\")\n",
    "        plot_fig(y, filename, path)"
   ]
  },
  {
   "cell_type": "code",
   "execution_count": 98,
   "metadata": {},
   "outputs": [
    {
     "name": "stdout",
     "output_type": "stream",
     "text": [
      "nine_31.png\r"
     ]
    }
   ],
   "source": [
    "path = 'Images/Nine/'\n",
    "y = 9\n",
    "\n",
    "for filename in listdir(path):\n",
    "    \n",
    "    if 'png' in filename:\n",
    "        \n",
    "        print(filename, end=\"\\r\")\n",
    "        plot_fig(y, filename, path)"
   ]
  }
 ],
 "metadata": {
  "kernelspec": {
   "display_name": "Python 3",
   "language": "python",
   "name": "python3"
  },
  "language_info": {
   "codemirror_mode": {
    "name": "ipython",
    "version": 3
   },
   "file_extension": ".py",
   "mimetype": "text/x-python",
   "name": "python",
   "nbconvert_exporter": "python",
   "pygments_lexer": "ipython3",
   "version": "3.7.4"
  }
 },
 "nbformat": 4,
 "nbformat_minor": 2
}
