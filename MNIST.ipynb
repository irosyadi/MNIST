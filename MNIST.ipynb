{
 "cells": [
  {
   "cell_type": "markdown",
   "metadata": {},
   "source": [
    "### Import and Format MNIST Dataset"
   ]
  },
  {
   "cell_type": "code",
   "execution_count": 1,
   "metadata": {},
   "outputs": [],
   "source": [
    "import numpy as np"
   ]
  },
  {
   "cell_type": "code",
   "execution_count": 2,
   "metadata": {},
   "outputs": [],
   "source": [
    "import matplotlib.pyplot as plt\n",
    "%matplotlib inline"
   ]
  },
  {
   "cell_type": "code",
   "execution_count": 3,
   "metadata": {},
   "outputs": [],
   "source": [
    "from PIL import Image"
   ]
  },
  {
   "cell_type": "code",
   "execution_count": 4,
   "metadata": {},
   "outputs": [],
   "source": [
    "import matplotlib.gridspec as gridspec"
   ]
  },
  {
   "cell_type": "code",
   "execution_count": 5,
   "metadata": {},
   "outputs": [],
   "source": [
    "from tensorflow.keras.datasets.mnist import load_data"
   ]
  },
  {
   "cell_type": "code",
   "execution_count": 6,
   "metadata": {},
   "outputs": [],
   "source": [
    "# Load data\n",
    "(x_train, y_train), (x_test, y_test) = load_data()"
   ]
  },
  {
   "cell_type": "code",
   "execution_count": 7,
   "metadata": {},
   "outputs": [],
   "source": [
    "# Reshape\n",
    "x_train = x_train.reshape(len(x_train), 28, 28, 1)\n",
    "x_test = x_test.reshape(len(x_test), 28, 28, 1)"
   ]
  },
  {
   "cell_type": "code",
   "execution_count": 8,
   "metadata": {},
   "outputs": [],
   "source": [
    "# Normalize data\n",
    "x_train = x_train/255\n",
    "x_test  = x_test/255"
   ]
  },
  {
   "cell_type": "markdown",
   "metadata": {},
   "source": [
    "### Train Neural Network"
   ]
  },
  {
   "cell_type": "code",
   "execution_count": 9,
   "metadata": {},
   "outputs": [],
   "source": [
    "from tensorflow.keras.models import Sequential\n",
    "from tensorflow.keras.layers import Dense, Conv2D, Dropout, Flatten, MaxPooling2D"
   ]
  },
  {
   "cell_type": "code",
   "execution_count": 10,
   "metadata": {},
   "outputs": [],
   "source": [
    "nn_model = Sequential()"
   ]
  },
  {
   "cell_type": "code",
   "execution_count": 11,
   "metadata": {},
   "outputs": [],
   "source": [
    "nn_model.add(Dense(16, input_shape=x_train[0].shape, activation='relu'))\n",
    "nn_model.add(Dense(16,  activation='relu'))\n",
    "nn_model.add(Flatten())\n",
    "nn_model.add(Dense(10,  activation='softmax'))"
   ]
  },
  {
   "cell_type": "code",
   "execution_count": 12,
   "metadata": {},
   "outputs": [
    {
     "name": "stdout",
     "output_type": "stream",
     "text": [
      "Model: \"sequential\"\n",
      "_________________________________________________________________\n",
      "Layer (type)                 Output Shape              Param #   \n",
      "=================================================================\n",
      "dense (Dense)                (None, 28, 28, 16)        32        \n",
      "_________________________________________________________________\n",
      "dense_1 (Dense)              (None, 28, 28, 16)        272       \n",
      "_________________________________________________________________\n",
      "flatten (Flatten)            (None, 12544)             0         \n",
      "_________________________________________________________________\n",
      "dense_2 (Dense)              (None, 10)                125450    \n",
      "=================================================================\n",
      "Total params: 125,754\n",
      "Trainable params: 125,754\n",
      "Non-trainable params: 0\n",
      "_________________________________________________________________\n"
     ]
    }
   ],
   "source": [
    "nn_model.summary()"
   ]
  },
  {
   "cell_type": "code",
   "execution_count": 13,
   "metadata": {},
   "outputs": [
    {
     "name": "stdout",
     "output_type": "stream",
     "text": [
      "Train on 60000 samples\n",
      "Epoch 1/10\n",
      "60000/60000 [==============================] - 18s 294us/sample - loss: 0.3515 - accuracy: 0.9003\n",
      "Epoch 2/10\n",
      "60000/60000 [==============================] - 24s 406us/sample - loss: 0.2845 - accuracy: 0.9194\n",
      "Epoch 3/10\n",
      "60000/60000 [==============================] - 17s 275us/sample - loss: 0.2699 - accuracy: 0.9240\n",
      "Epoch 4/10\n",
      "60000/60000 [==============================] - 17s 275us/sample - loss: 0.2577 - accuracy: 0.9269\n",
      "Epoch 5/10\n",
      "60000/60000 [==============================] - 17s 280us/sample - loss: 0.2432 - accuracy: 0.9315\n",
      "Epoch 6/10\n",
      "60000/60000 [==============================] - 16s 274us/sample - loss: 0.2317 - accuracy: 0.9349\n",
      "Epoch 7/10\n",
      "60000/60000 [==============================] - 17s 275us/sample - loss: 0.2177 - accuracy: 0.9392\n",
      "Epoch 8/10\n",
      "60000/60000 [==============================] - 17s 276us/sample - loss: 0.2074 - accuracy: 0.9412\n",
      "Epoch 9/10\n",
      "60000/60000 [==============================] - 17s 279us/sample - loss: 0.1992 - accuracy: 0.9437\n",
      "Epoch 10/10\n",
      "60000/60000 [==============================] - 17s 285us/sample - loss: 0.1901 - accuracy: 0.9455\n"
     ]
    },
    {
     "data": {
      "text/plain": [
       "<tensorflow.python.keras.callbacks.History at 0x27ca945a848>"
      ]
     },
     "execution_count": 13,
     "metadata": {},
     "output_type": "execute_result"
    }
   ],
   "source": [
    "nn_model.compile(optimizer='adam', \n",
    "              loss='sparse_categorical_crossentropy', \n",
    "              metrics=['accuracy'])\n",
    "\n",
    "nn_model.fit(x=x_train,y=y_train, epochs=10)"
   ]
  },
  {
   "cell_type": "markdown",
   "metadata": {},
   "source": [
    "### Train Convolutional Neural Network"
   ]
  },
  {
   "cell_type": "code",
   "execution_count": 14,
   "metadata": {},
   "outputs": [],
   "source": [
    "cnn_model = Sequential()"
   ]
  },
  {
   "cell_type": "code",
   "execution_count": 15,
   "metadata": {},
   "outputs": [],
   "source": [
    "cnn_model.add(Conv2D(28, kernel_size=(3,3), input_shape=x_train[0].shape))\n",
    "cnn_model.add(MaxPooling2D(pool_size=(2, 2)))\n",
    "cnn_model.add(Flatten())\n",
    "cnn_model.add(Dense(128, activation='relu'))\n",
    "cnn_model.add(Dropout(0.2))\n",
    "cnn_model.add(Dense(10,activation='softmax'))"
   ]
  },
  {
   "cell_type": "code",
   "execution_count": 16,
   "metadata": {},
   "outputs": [
    {
     "name": "stdout",
     "output_type": "stream",
     "text": [
      "Model: \"sequential_1\"\n",
      "_________________________________________________________________\n",
      "Layer (type)                 Output Shape              Param #   \n",
      "=================================================================\n",
      "conv2d (Conv2D)              (None, 26, 26, 28)        280       \n",
      "_________________________________________________________________\n",
      "max_pooling2d (MaxPooling2D) (None, 13, 13, 28)        0         \n",
      "_________________________________________________________________\n",
      "flatten_1 (Flatten)          (None, 4732)              0         \n",
      "_________________________________________________________________\n",
      "dense_3 (Dense)              (None, 128)               605824    \n",
      "_________________________________________________________________\n",
      "dropout (Dropout)            (None, 128)               0         \n",
      "_________________________________________________________________\n",
      "dense_4 (Dense)              (None, 10)                1290      \n",
      "=================================================================\n",
      "Total params: 607,394\n",
      "Trainable params: 607,394\n",
      "Non-trainable params: 0\n",
      "_________________________________________________________________\n"
     ]
    }
   ],
   "source": [
    "cnn_model.summary()"
   ]
  },
  {
   "cell_type": "code",
   "execution_count": 17,
   "metadata": {},
   "outputs": [
    {
     "name": "stdout",
     "output_type": "stream",
     "text": [
      "Train on 60000 samples\n",
      "Epoch 1/10\n",
      "60000/60000 [==============================] - 39s 657us/sample - loss: 0.2217 - accuracy: 0.9331\n",
      "Epoch 2/10\n",
      "60000/60000 [==============================] - 38s 626us/sample - loss: 0.0881 - accuracy: 0.9729\n",
      "Epoch 3/10\n",
      "60000/60000 [==============================] - 38s 628us/sample - loss: 0.0625 - accuracy: 0.9804\n",
      "Epoch 4/10\n",
      "60000/60000 [==============================] - 38s 631us/sample - loss: 0.0471 - accuracy: 0.9850\n",
      "Epoch 5/10\n",
      "60000/60000 [==============================] - 38s 632us/sample - loss: 0.0369 - accuracy: 0.9877\n",
      "Epoch 6/10\n",
      "60000/60000 [==============================] - 38s 636us/sample - loss: 0.0312 - accuracy: 0.9895\n",
      "Epoch 7/10\n",
      "60000/60000 [==============================] - 39s 642us/sample - loss: 0.0254 - accuracy: 0.9913- loss: 0.0254 - accuracy\n",
      "Epoch 8/10\n",
      "60000/60000 [==============================] - 39s 652us/sample - loss: 0.0223 - accuracy: 0.9921\n",
      "Epoch 9/10\n",
      "60000/60000 [==============================] - 41s 688us/sample - loss: 0.0214 - accuracy: 0.9924\n",
      "Epoch 10/10\n",
      "60000/60000 [==============================] - 42s 700us/sample - loss: 0.0193 - accuracy: 0.9933\n"
     ]
    },
    {
     "data": {
      "text/plain": [
       "<tensorflow.python.keras.callbacks.History at 0x27ca9bb3c48>"
      ]
     },
     "execution_count": 17,
     "metadata": {},
     "output_type": "execute_result"
    }
   ],
   "source": [
    "cnn_model.compile(optimizer='adam', \n",
    "              loss='sparse_categorical_crossentropy', \n",
    "              metrics=['accuracy'])\n",
    "\n",
    "cnn_model.fit(x=x_train,y=y_train, epochs=10)"
   ]
  },
  {
   "cell_type": "markdown",
   "metadata": {},
   "source": [
    "### Train K-Nearest Neighbors"
   ]
  },
  {
   "cell_type": "code",
   "execution_count": 18,
   "metadata": {},
   "outputs": [],
   "source": [
    "from sklearn.neighbors import KNeighborsClassifier"
   ]
  },
  {
   "cell_type": "code",
   "execution_count": 19,
   "metadata": {},
   "outputs": [],
   "source": [
    "knn_model = KNeighborsClassifier(n_neighbors=5)"
   ]
  },
  {
   "cell_type": "code",
   "execution_count": 20,
   "metadata": {},
   "outputs": [
    {
     "data": {
      "text/plain": [
       "KNeighborsClassifier(algorithm='auto', leaf_size=30, metric='minkowski',\n",
       "                     metric_params=None, n_jobs=None, n_neighbors=5, p=2,\n",
       "                     weights='uniform')"
      ]
     },
     "execution_count": 20,
     "metadata": {},
     "output_type": "execute_result"
    }
   ],
   "source": [
    "knn_model.fit(x_train.reshape(len(x_train), 784), y_train)"
   ]
  },
  {
   "cell_type": "markdown",
   "metadata": {},
   "source": [
    "### Evaluate the Models on the Training Set"
   ]
  },
  {
   "cell_type": "code",
   "execution_count": 21,
   "metadata": {},
   "outputs": [
    {
     "name": "stdout",
     "output_type": "stream",
     "text": [
      "NN Model Accuracy:  0.9346\n"
     ]
    }
   ],
   "source": [
    "print('NN Model Accuracy: ' , nn_model.evaluate(x_test, y_test, verbose=False)[1])"
   ]
  },
  {
   "cell_type": "code",
   "execution_count": 22,
   "metadata": {},
   "outputs": [
    {
     "name": "stdout",
     "output_type": "stream",
     "text": [
      "CNN Model Accuracy:  0.9835\n"
     ]
    }
   ],
   "source": [
    "print('CNN Model Accuracy: ', cnn_model.evaluate(x_test, y_test, verbose=False)[1])"
   ]
  },
  {
   "cell_type": "code",
   "execution_count": 23,
   "metadata": {},
   "outputs": [
    {
     "name": "stdout",
     "output_type": "stream",
     "text": [
      "KNN Model Accuracy:  0.961\n"
     ]
    }
   ],
   "source": [
    "print('KNN Model Accuracy: ', knn_model.score(x_test[:1000].reshape(len(x_test[:1000]), 784), y_test[:1000]))"
   ]
  },
  {
   "cell_type": "markdown",
   "metadata": {},
   "source": [
    "### Visualize Predictions"
   ]
  },
  {
   "cell_type": "code",
   "execution_count": 72,
   "metadata": {},
   "outputs": [],
   "source": [
    "def plot_fig(y, filename, filepath):\n",
    "    \n",
    "    # Load Image\n",
    "    img = (np.invert(Image.open(filepath + filename).convert('L')))/255\n",
    "    \n",
    "    # Calculate Prediction probabilities for each NN model\n",
    "    nn_pred = nn_model.predict(img.reshape(1, 28, 28, 1))[0]\n",
    "    cnn_pred = cnn_model.predict(img.reshape(1, 28, 28, 1))[0]\n",
    "    \n",
    "    # Caclulate 5 Nearest Neighbors for KNN\n",
    "    nbr_index = knn_model.kneighbors(img.reshape(1, 784), n_neighbors=5, return_distance=False)[0]\n",
    "    nbr_label = y_train[nbr_index]\n",
    "    knn_pred = np.bincount(nbr_label, minlength=10)/len(nbr_label)\n",
    "    \n",
    "    # Plot Image\n",
    "    fig = plt.figure()\n",
    "\n",
    "    plt.subplot2grid((3,2), (0,0), rowspan=3)\n",
    "    plt.imshow(img.reshape(28, 28), vmin=0, vmax=1, cmap='Greys')\n",
    "    plt.xticks([])\n",
    "    plt.yticks([])\n",
    "\n",
    "    # Plot NN Prediction\n",
    "    plt.subplot2grid((3,2), (0, 1))\n",
    "    plt.bar(list(range(len(nn_pred))), nn_pred, color='lightblue')\n",
    "    plt.bar([y], np.array(nn_pred[y])[nn_pred.argmax() == y], color='tab:blue')\n",
    "    plt.xticks(np.arange(0, 10))\n",
    "    plt.ylim([0, 1])\n",
    "    plt.title('NN')\n",
    "    plt.yticks([0, .5, 1])\n",
    "\n",
    "    # Plot CNN Prediction\n",
    "    plt.subplot2grid((3,2), (1, 1))\n",
    "    plt.bar(list(range(len(cnn_pred))), cnn_pred, color='lightgreen')\n",
    "    plt.bar([y], np.array(cnn_pred[y])[cnn_pred.argmax() == y], color='tab:green')\n",
    "    plt.xticks(np.arange(0, 10))\n",
    "    plt.ylim([0, 1])\n",
    "    plt.title('CNN')\n",
    "    plt.yticks([0, .5, 1])\n",
    "\n",
    "    # Plot KNN Prediction\n",
    "    plt.subplot2grid((3,2), (2, 1))\n",
    "    plt.bar(list(range(len(knn_pred))), knn_pred, color='peachpuff')\n",
    "    plt.bar([y], np.array(knn_pred[y])[knn_pred.argmax() == y], color='tab:red')\n",
    "    plt.xticks(np.arange(0, 10))\n",
    "    plt.ylim([0, 1])\n",
    "    plt.title('KNN')\n",
    "    plt.yticks([0, .5, 1])\n",
    "\n",
    "    fig.tight_layout()\n",
    "    fig.set_size_inches(w=12,h=6)\n",
    "\n",
    "    fig.savefig(filepath + 'Plots/' + filename.replace('.png', '') + '_plot.png')\n",
    "    plt.close()"
   ]
  },
  {
   "cell_type": "code",
   "execution_count": 28,
   "metadata": {},
   "outputs": [],
   "source": [
    "from os import listdir"
   ]
  },
  {
   "cell_type": "code",
   "execution_count": 38,
   "metadata": {},
   "outputs": [
    {
     "data": {
      "text/plain": [
       "'zero_00'"
      ]
     },
     "execution_count": 38,
     "metadata": {},
     "output_type": "execute_result"
    }
   ],
   "source": [
    "'zero_00.png'.replace('.png', '')"
   ]
  },
  {
   "cell_type": "code",
   "execution_count": null,
   "metadata": {},
   "outputs": [],
   "source": [
    "path = 'Images/Zero/'\n",
    "y = 0\n",
    "\n",
    "for filename in listdir(path):\n",
    "    \n",
    "    if 'png' in filename:\n",
    "        \n",
    "        print(filename, end=\"\\r\")\n",
    "        plot_fig(y, filename, path)"
   ]
  },
  {
   "cell_type": "code",
   "execution_count": null,
   "metadata": {},
   "outputs": [],
   "source": [
    "path = 'Images/One/'\n",
    "y = 1\n",
    "\n",
    "for filename in listdir(path):\n",
    "    \n",
    "    if 'png' in filename:\n",
    "        \n",
    "        print(filename, end=\"\\r\")\n",
    "        plot_fig(y, filename, path)"
   ]
  },
  {
   "cell_type": "code",
   "execution_count": 73,
   "metadata": {},
   "outputs": [
    {
     "name": "stdout",
     "output_type": "stream",
     "text": [
      "two_30.png\r"
     ]
    }
   ],
   "source": [
    "path = 'Images/Two/'\n",
    "y = 2\n",
    "\n",
    "for filename in listdir(path):\n",
    "    \n",
    "    if 'png' in filename:\n",
    "        \n",
    "        print(filename, end=\"\\r\")\n",
    "        plot_fig(y, filename, path)"
   ]
  },
  {
   "cell_type": "code",
   "execution_count": null,
   "metadata": {},
   "outputs": [],
   "source": []
  },
  {
   "cell_type": "code",
   "execution_count": null,
   "metadata": {},
   "outputs": [],
   "source": []
  },
  {
   "cell_type": "code",
   "execution_count": 45,
   "metadata": {},
   "outputs": [],
   "source": [
    "img = (np.invert(Image.open('Images/Two/two_00.png').convert('L')))/255"
   ]
  },
  {
   "cell_type": "code",
   "execution_count": 46,
   "metadata": {},
   "outputs": [
    {
     "data": {
      "text/plain": [
       "array([2.6191086e-05, 4.5022633e-05, 9.8589200e-01, 2.4958651e-03,\n",
       "       4.4336372e-05, 1.9689447e-03, 8.1050443e-04, 3.6777565e-05,\n",
       "       6.7517175e-03, 1.9287341e-03], dtype=float32)"
      ]
     },
     "execution_count": 46,
     "metadata": {},
     "output_type": "execute_result"
    }
   ],
   "source": [
    "nn_pred = nn_model.predict(img.reshape(1, 28, 28, 1))[0]\n",
    "\n",
    "nn_pred"
   ]
  },
  {
   "cell_type": "code",
   "execution_count": 47,
   "metadata": {},
   "outputs": [
    {
     "data": {
      "text/plain": [
       "array([8.8701961e-14, 3.4627260e-07, 9.9999332e-01, 6.2626482e-06,\n",
       "       8.5127894e-12, 6.0886658e-13, 8.2619800e-16, 1.6827196e-08,\n",
       "       9.3741983e-09, 7.4218404e-13], dtype=float32)"
      ]
     },
     "execution_count": 47,
     "metadata": {},
     "output_type": "execute_result"
    }
   ],
   "source": [
    "cnn_pred = cnn_model.predict(img.reshape(1, 28, 28, 1))[0]\n",
    "\n",
    "cnn_pred"
   ]
  },
  {
   "cell_type": "code",
   "execution_count": 48,
   "metadata": {},
   "outputs": [
    {
     "data": {
      "text/plain": [
       "array([0., 1., 0., 0., 0., 0., 0., 0., 0., 0.])"
      ]
     },
     "execution_count": 48,
     "metadata": {},
     "output_type": "execute_result"
    }
   ],
   "source": [
    "nbr_index = knn_model.kneighbors(img.reshape(1, 784), n_neighbors=5, return_distance=False)[0]\n",
    "nbr_label = y_train[nbr_index]\n",
    "knn_pred = np.bincount(nbr_label, minlength=10)/len(nbr_label)\n",
    "\n",
    "knn_pred"
   ]
  },
  {
   "cell_type": "code",
   "execution_count": 70,
   "metadata": {},
   "outputs": [
    {
     "data": {
      "text/plain": [
       "(-0.5, 27.5, 27.5, -0.5)"
      ]
     },
     "execution_count": 70,
     "metadata": {},
     "output_type": "execute_result"
    },
    {
     "data": {
      "image/png": "[encoded data removed]",
      "text/plain": [
       "<Figure size 432x288 with 1 Axes>"
      ]
     },
     "metadata": {},
     "output_type": "display_data"
    }
   ],
   "source": [
    "plt.imshow(x_test[1].reshape(28, 28), cmap='Greys')\n",
    "plt.xticks([])\n",
    "plt.yticks([])\n",
    "plt.axis('off')"
   ]
  }
 ],
 "metadata": {
  "kernelspec": {
   "display_name": "Python 3",
   "language": "python",
   "name": "python3"
  },
  "language_info": {
   "codemirror_mode": {
    "name": "ipython",
    "version": 3
   },
   "file_extension": ".py",
   "mimetype": "text/x-python",
   "name": "python",
   "nbconvert_exporter": "python",
   "pygments_lexer": "ipython3",
   "version": "3.7.4"
  }
 },
 "nbformat": 4,
 "nbformat_minor": 2
}
